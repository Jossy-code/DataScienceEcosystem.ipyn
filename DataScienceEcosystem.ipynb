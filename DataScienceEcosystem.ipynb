{
 "cells": [
  {
   "cell_type": "markdown",
   "id": "0620f5fe-a5a4-4c00-a285-3a20aa8cd0e1",
   "metadata": {},
   "source": [
    "# DataScienceToolsandEcosystem"
   ]
  },
  {
   "cell_type": "markdown",
   "id": "f55fc04b-5f70-4e8f-9392-c0c71ee2a4fd",
   "metadata": {},
   "source": [
    "In this notebook, Data Science Tools and Ecosystem are summarized."
   ]
  },
  {
   "cell_type": "markdown",
   "id": "bcf5a52a-c81d-4248-83ca-0d2da5fa7046",
   "metadata": {},
   "source": [
    "# The Objectives of this notebook are as follows:"
   ]
  },
  {
   "cell_type": "markdown",
   "id": "2415e3a7-26a8-4773-a72f-e420faabb486",
   "metadata": {},
   "source": [
    "# Unordered list\n",
    "* Popular languages for data Science such as Python, SQL, Java, Scala\n",
    "* Data Science libraries such as Scikit-learn, TensorFlow, Pandas, PyTorch\n",
    "* Open Source and Free Software "
   ]
  },
  {
   "cell_type": "markdown",
   "id": "2cdcc489-32ce-490a-9cdd-f7ffb93a799c",
   "metadata": {},
   "source": [
    "Some of the popular languages that Data Scientists use are:\n",
    "Python, SQL, Java, C++, Scala, PyTorch, MATLAB\n",
    "# Ordered list"
   ]
  },
  {
   "cell_type": "markdown",
   "id": "9201d490-6618-4e71-8dbf-b3d7c947501e",
   "metadata": {},
   "source": [
    "1. Python\n",
    "2. SQL\n",
    "3. PyTorch\n",
    "4. C++\n",
    "5. Scala"
   ]
  },
  {
   "cell_type": "markdown",
   "id": "5388cc31-2f38-4675-8651-5c8e3bc0a734",
   "metadata": {},
   "source": [
    "Some of the commonly used libraries used by Data Scientists include: \n",
    "Scikit-learn, TensorFlow, PyTorch, OpenCV, Theano, Requests, mlpack, Dlip\n",
    "# Ordered list"
   ]
  },
  {
   "cell_type": "markdown",
   "id": "f9f78072-daca-49f6-a1ff-7891ae610c1f",
   "metadata": {},
   "source": [
    "1. Sckit-learn\n",
    "2. TensorFlow\n",
    "3. PyTorch"
   ]
  },
  {
   "cell_type": "markdown",
   "id": "f5cfb0ff-b2bc-48c2-8427-59309251d5c2",
   "metadata": {},
   "source": [
    "# Data Science Tools\n",
    "SAS"
   ]
  },
  {
   "cell_type": "markdown",
   "id": "6eba46fc-05a7-4cb0-b32c-441a61977c73",
   "metadata": {},
   "source": [
    "Tableau"
   ]
  },
  {
   "cell_type": "markdown",
   "id": "6ddc2ba1-f00e-4d92-b191-50f65cc37f2f",
   "metadata": {},
   "source": [
    "Jupyters"
   ]
  },
  {
   "cell_type": "markdown",
   "id": "2a2185ec-3a2c-4c87-9f74-040f6f68aba2",
   "metadata": {},
   "source": [
    "### Arithmetic expression can be evaluated by Python"
   ]
  },
  {
   "cell_type": "markdown",
   "id": "0781d9c6-9952-40cf-a3b0-27d758fdc165",
   "metadata": {},
   "source": [
    "# This is a simple arthmetic expression to multipy then add integers. "
   ]
  },
  {
   "cell_type": "markdown",
   "id": "96c787ca-a658-447f-a7b2-5d0521607eeb",
   "metadata": {},
   "source": [
    "(6*8)+10"
   ]
  },
  {
   "cell_type": "markdown",
   "id": "2d14ae04-118a-4fbc-9ee3-c8cfbf5173dd",
   "metadata": {},
   "source": [
    "# convert 200minutes to hour"
   ]
  },
  {
   "cell_type": "code",
   "execution_count": 2,
   "id": "4817dfd1-b0d7-4bcd-8839-81cb6a404d96",
   "metadata": {},
   "outputs": [
    {
     "data": {
      "text/plain": [
       "3.3333333333333335"
      ]
     },
     "execution_count": 2,
     "metadata": {},
     "output_type": "execute_result"
    }
   ],
   "source": [
    "200/60"
   ]
  },
  {
   "cell_type": "markdown",
   "id": "f68a4e32-3a53-430c-802f-b462d3e4b1e6",
   "metadata": {},
   "source": [
    "# Authors' names: Lakshmi Holla, Niveditha Pandith\n",
    "Akinnifesi Joseph"
   ]
  }
 ],
 "metadata": {
  "kernelspec": {
   "display_name": "Python",
   "language": "python",
   "name": "conda-env-python-py"
  },
  "language_info": {
   "codemirror_mode": {
    "name": "ipython",
    "version": 3
   },
   "file_extension": ".py",
   "mimetype": "text/x-python",
   "name": "python",
   "nbconvert_exporter": "python",
   "pygments_lexer": "ipython3",
   "version": "3.7.12"
  }
 },
 "nbformat": 4,
 "nbformat_minor": 5
}
